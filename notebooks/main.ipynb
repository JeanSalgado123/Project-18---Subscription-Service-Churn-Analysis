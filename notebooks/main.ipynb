{
  "nbformat": 4,
  "nbformat_minor": 0,
  "metadata": {
    "colab": {
      "provenance": []
    },
    "kernelspec": {
      "name": "python3",
      "display_name": "Python 3"
    },
    "language_info": {
      "name": "python"
    }
  },
  "cells": [
    {
      "cell_type": "code",
      "execution_count": 1,
      "metadata": {
        "colab": {
          "base_uri": "https://localhost:8080/",
          "height": 35
        },
        "id": "nBnxV8oI16Fa",
        "outputId": "3da5a7b5-d7d2-423e-f1e9-ff0f38a218d7"
      },
      "outputs": [
        {
          "output_type": "execute_result",
          "data": {
            "text/plain": [
              "''"
            ],
            "application/vnd.google.colaboratory.intrinsic+json": {
              "type": "string"
            }
          },
          "metadata": {},
          "execution_count": 1
        }
      ],
      "source": [
        "# Install the necessary library\n",
        "import subprocess\n",
        "import sys\n",
        "\n",
        "def install(package):\n",
        "    subprocess.check_call([sys.executable, \"-m\", \"pip\", \"install\", package])\n",
        "\n",
        "# Install fpdf\n",
        "install(\"fpdf\")\n",
        "\n",
        "# Importing necessary libraries\n",
        "import pandas as pd\n",
        "import numpy as np\n",
        "from sklearn.model_selection import train_test_split\n",
        "from sklearn.ensemble import RandomForestClassifier\n",
        "from sklearn.metrics import classification_report, confusion_matrix, roc_auc_score, roc_curve\n",
        "import matplotlib.pyplot as plt\n",
        "import seaborn as sns\n",
        "import os\n",
        "import joblib\n",
        "from fpdf import FPDF\n",
        "\n",
        "# Create project directories\n",
        "os.makedirs('project_18_churn_analysis/data', exist_ok=True)\n",
        "os.makedirs('project_18_churn_analysis/reports', exist_ok=True)\n",
        "os.makedirs('project_18_churn_analysis/models', exist_ok=True)\n",
        "os.makedirs('project_18_churn_analysis/visualizations', exist_ok=True)\n",
        "\n",
        "# 1. Simulate churn data\n",
        "np.random.seed(42)\n",
        "n_clients = 1000\n",
        "\n",
        "data = pd.DataFrame({\n",
        "    'CustomerID': range(1, n_clients + 1),\n",
        "    'Tenure': np.random.randint(1, 24, n_clients),\n",
        "    'MonthlyCharges': np.random.uniform(10, 100, n_clients),\n",
        "    'TotalCharges': np.random.uniform(50, 2000, n_clients),\n",
        "    'SupportInteractions': np.random.randint(0, 10, n_clients),\n",
        "    'PaymentHistoryIssues': np.random.randint(0, 5, n_clients),\n",
        "    'Churn': np.random.choice([0, 1], n_clients, p=[0.8, 0.2])\n",
        "})\n",
        "\n",
        "# Save data as CSV\n",
        "data.to_csv('project_18_churn_analysis/data/churn_analysis_data.csv', index=False)\n",
        "\n",
        "# 2. Split data into training and testing sets\n",
        "X = data.drop(['CustomerID', 'Churn'], axis=1)\n",
        "y = data['Churn']\n",
        "X_train, X_test, y_train, y_test = train_test_split(X, y, test_size=0.3, random_state=42)\n",
        "\n",
        "# 3. Train RandomForest model\n",
        "model = RandomForestClassifier(n_estimators=100, random_state=42)\n",
        "model.fit(X_train, y_train)\n",
        "\n",
        "# Save the trained model\n",
        "joblib.dump(model, 'project_18_churn_analysis/models/churn_model.pkl')\n",
        "\n",
        "# 4. Make predictions and evaluate the model\n",
        "y_pred = model.predict(X_test)\n",
        "y_pred_proba = model.predict_proba(X_test)[:, 1]\n",
        "\n",
        "classification_rep = classification_report(y_test, y_pred, output_dict=True)\n",
        "conf_matrix = confusion_matrix(y_test, y_pred)\n",
        "roc_auc = roc_auc_score(y_test, y_pred_proba)\n",
        "fpr, tpr, _ = roc_curve(y_test, y_pred_proba)\n",
        "\n",
        "# 5. Save classification report as CSV\n",
        "classification_df = pd.DataFrame(classification_rep).transpose()\n",
        "classification_df.to_csv('project_18_churn_analysis/reports/classification_report.csv', index=True)\n",
        "\n",
        "# 6. Generate visualizations\n",
        "# Confusion Matrix\n",
        "plt.figure(figsize=(8, 6))\n",
        "sns.heatmap(conf_matrix, annot=True, fmt=\"d\", cmap=\"Blues\", xticklabels=['No Churn', 'Churn'], yticklabels=['No Churn', 'Churn'])\n",
        "plt.xlabel('Predicted')\n",
        "plt.ylabel('Actual')\n",
        "plt.title('Confusion Matrix - Churn Prediction')\n",
        "plt.tight_layout()\n",
        "plt.savefig('project_18_churn_analysis/visualizations/confusion_matrix.png')\n",
        "plt.close()\n",
        "\n",
        "# ROC Curve\n",
        "plt.figure(figsize=(8, 6))\n",
        "plt.plot(fpr, tpr, color='blue', label='ROC Curve (area = %0.2f)' % roc_auc)\n",
        "plt.plot([0, 1], [0, 1], color='red', linestyle='--')\n",
        "plt.xlabel('False Positive Rate')\n",
        "plt.ylabel('True Positive Rate')\n",
        "plt.title('Receiver Operating Characteristic (ROC) Curve')\n",
        "plt.legend(loc='lower right')\n",
        "plt.tight_layout()\n",
        "plt.savefig('project_18_churn_analysis/visualizations/roc_curve.png')\n",
        "plt.close()\n",
        "\n",
        "# 7. Create README.md\n",
        "readme_content = (\n",
        "    \"# Project 18: Churn Analysis in a Subscription-Based Company\\n\\n\"\n",
        "    \"## Project Overview\\n\"\n",
        "    \"This project simulates a churn analysis for a subscription-based service company. The goal is to identify factors \"\n",
        "    \"leading to customer churn and develop predictive models to forecast potential churn, enabling the company to take proactive retention measures.\\n\\n\"\n",
        "    \"## Objectives\\n\"\n",
        "    \"- Data collection and preprocessing to simulate real-world churn data.\\n\"\n",
        "    \"- Exploratory Data Analysis (EDA) to find patterns related to churn.\\n\"\n",
        "    \"- Development of machine learning models to predict churn.\\n\"\n",
        "    \"- Visualization of churn trends, customer segmentation, and risk factors.\\n\\n\"\n",
        "    \"## Methods\\n\"\n",
        "    \"- Data Cleaning: Handling missing values and outliers.\\n\"\n",
        "    \"- Exploratory Data Analysis (EDA): Understanding customer behavior and churn patterns.\\n\"\n",
        "    \"- Machine Learning Models: Random Forest was used for churn prediction.\\n\"\n",
        "    \"- Visualizations: Confusion matrix, ROC curve, and classification report for model evaluation.\\n\\n\"\n",
        "    \"## How to Run\\n\"\n",
        "    \"1. Install the required packages:\\n\"\n",
        "    \"   ```\\n\"\n",
        "    \"   pip install pandas numpy scikit-learn matplotlib seaborn joblib fpdf\\n\"\n",
        "    \"   ```\\n\"\n",
        "    \"2. Run the Jupyter Notebook `churn_analysis.ipynb` to follow the full workflow.\\n\"\n",
        "    \"3. Alternatively, execute the Python script `churn_analysis.py` for a complete run of the project.\\n\\n\"\n",
        "    \"## Results\\n\"\n",
        "    \"The Random Forest model achieved satisfactory performance in predicting churn, identifying key factors contributing to churn risk.\\n\\n\"\n",
        "    \"## Folders\\n\"\n",
        "    \"- **data**: Contains the dataset used for analysis.\\n\"\n",
        "    \"- **reports**: Contains the analysis report and visualizations.\\n\"\n",
        "    \"- **models**: Stores the trained model.\\n\"\n",
        "    \"- **visualizations**: Contains images of the visualizations generated.\\n\"\n",
        ")\n",
        "with open('project_18_churn_analysis/README.md', 'w') as file:\n",
        "    file.write(readme_content)\n",
        "\n",
        "# 8. Create PDF Report\n",
        "pdf = FPDF()\n",
        "pdf.add_page()\n",
        "pdf.set_font(\"Arial\", size=12)\n",
        "\n",
        "# Introduction\n",
        "pdf.set_font(\"Arial\", style='B', size=14)\n",
        "pdf.cell(200, 10, 'Churn Analysis in a Subscription-Based Company', ln=True, align='C')\n",
        "pdf.set_font(\"Arial\", size=12)\n",
        "pdf.ln(10)\n",
        "pdf.multi_cell(0, 10, \"This report presents an analysis of customer churn in a subscription-based company...\")\n",
        "pdf.ln(5)\n",
        "\n",
        "# Methodology\n",
        "pdf.set_font(\"Arial\", style='B', size=14)\n",
        "pdf.cell(200, 10, 'Methodology', ln=True)\n",
        "pdf.set_font(\"Arial\", size=12)\n",
        "pdf.multi_cell(0, 10, \"The analysis includes data preprocessing, exploratory data analysis, and model training...\")\n",
        "\n",
        "# Results and Conclusions\n",
        "pdf.set_font(\"Arial\", style='B', size=14)\n",
        "pdf.cell(200, 10, 'Results and Conclusions', ln=True)\n",
        "pdf.set_font(\"Arial\", size=12)\n",
        "pdf.multi_cell(0, 10, f\"Model achieved an ROC-AUC score of {roc_auc:.2f}...\")\n",
        "\n",
        "pdf.output('project_18_churn_analysis/reports/churn_analysis_report.pdf')\n"
      ]
    },
    {
      "cell_type": "code",
      "source": [
        "import shutil\n",
        "from google.colab import files\n",
        "\n",
        "shutil.make_archive(\"18\", 'zip', \".\")\n",
        "\n",
        "files.download(\"18.zip\")"
      ],
      "metadata": {
        "colab": {
          "base_uri": "https://localhost:8080/",
          "height": 34
        },
        "id": "_Tsw-Kkd18-F",
        "outputId": "3a529bc0-7a19-4dfb-d4ad-25b59a40a0bd"
      },
      "execution_count": 2,
      "outputs": [
        {
          "output_type": "display_data",
          "data": {
            "text/plain": [
              "<IPython.core.display.Javascript object>"
            ],
            "application/javascript": [
              "\n",
              "    async function download(id, filename, size) {\n",
              "      if (!google.colab.kernel.accessAllowed) {\n",
              "        return;\n",
              "      }\n",
              "      const div = document.createElement('div');\n",
              "      const label = document.createElement('label');\n",
              "      label.textContent = `Downloading \"${filename}\": `;\n",
              "      div.appendChild(label);\n",
              "      const progress = document.createElement('progress');\n",
              "      progress.max = size;\n",
              "      div.appendChild(progress);\n",
              "      document.body.appendChild(div);\n",
              "\n",
              "      const buffers = [];\n",
              "      let downloaded = 0;\n",
              "\n",
              "      const channel = await google.colab.kernel.comms.open(id);\n",
              "      // Send a message to notify the kernel that we're ready.\n",
              "      channel.send({})\n",
              "\n",
              "      for await (const message of channel.messages) {\n",
              "        // Send a message to notify the kernel that we're ready.\n",
              "        channel.send({})\n",
              "        if (message.buffers) {\n",
              "          for (const buffer of message.buffers) {\n",
              "            buffers.push(buffer);\n",
              "            downloaded += buffer.byteLength;\n",
              "            progress.value = downloaded;\n",
              "          }\n",
              "        }\n",
              "      }\n",
              "      const blob = new Blob(buffers, {type: 'application/binary'});\n",
              "      const a = document.createElement('a');\n",
              "      a.href = window.URL.createObjectURL(blob);\n",
              "      a.download = filename;\n",
              "      div.appendChild(a);\n",
              "      a.click();\n",
              "      div.remove();\n",
              "    }\n",
              "  "
            ]
          },
          "metadata": {}
        },
        {
          "output_type": "display_data",
          "data": {
            "text/plain": [
              "<IPython.core.display.Javascript object>"
            ],
            "application/javascript": [
              "download(\"download_ba8ac828-6afc-4338-920e-32c5a4b91ca1\", \"18.zip\", 7520164)"
            ]
          },
          "metadata": {}
        }
      ]
    },
    {
      "cell_type": "code",
      "source": [],
      "metadata": {
        "id": "a9NTSQ0b2JpA"
      },
      "execution_count": null,
      "outputs": []
    }
  ]
}